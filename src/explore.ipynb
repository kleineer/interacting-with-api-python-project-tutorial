{
    "cells": [
        {
            "cell_type": "markdown",
            "metadata": {},
            "source": [
                "# Interacting with api python project tutorial"
            ]
        },
        {
            "cell_type": "code",
            "execution_count": 1,
            "metadata": {},
            "outputs": [],
            "source": [
                "# Importar librerías necesarias\n",
                "import os\n",
                "import pandas as pd\n",
                "import spotipy\n",
                "from spotipy.oauth2 import SpotifyClientCredentials\n",
                "from dotenv import load_dotenv"
            ]
        },
        {
            "cell_type": "code",
            "execution_count": 2,
            "metadata": {},
            "outputs": [
                {
                    "name": "stdout",
                    "output_type": "stream",
                    "text": [
                        "Conexión a la API de Spotify establecida.\n"
                    ]
                }
            ],
            "source": [
                "# Cargar variables de entorno desde el archivo .env\n",
                "load_dotenv()\n",
                "\n",
                "# --- Configuración de la API de Spotify ---\n",
                "# Obtener Client ID y Client Secret de las variables de entorno\n",
                "CLIENT_ID = os.getenv(\"SPOTIPY_CLIENT_ID\")\n",
                "CLIENT_SECRET = os.getenv(\"SPOTIPY_CLIENT_SECRET\")\n",
                "\n",
                "if not CLIENT_ID or not CLIENT_SECRET:\n",
                "    print(\"Error: Las variables de entorno SPOTIPY_CLIENT_ID y SPOTIPY_CLIENT_SECRET no están configuradas.\")\n",
                "    print(\"Asegúrate de tener un archivo .env en la raíz de tu proyecto con estas variables.\")\n",
                "    exit()\n",
                "\n",
                "# Autenticación usando Client Credentials Flow (para acceso a datos públicos)\n",
                "# Este flujo es ideal para aplicaciones de servidor a servidor que no necesitan la interacción del usuario.\n",
                "sp = spotipy.Spotify(auth_manager=SpotifyClientCredentials(client_id=CLIENT_ID,\n",
                "                                                           client_secret=CLIENT_SECRET))\n",
                "\n",
                "print(\"Conexión a la API de Spotify establecida.\")\n"
            ]
        },
        {
            "cell_type": "code",
            "execution_count": 11,
            "metadata": {},
            "outputs": [
                {
                    "name": "stdout",
                    "output_type": "stream",
                    "text": [
                        "Buscando canciones de Queen...\n",
                        "ID de Queen: 1dfeR4HaWDbWqFHLkxsg1d\n",
                        "Se recuperaron 10 canciones principales de Queen.\n"
                    ]
                }
            ],
            "source": [
                "# --- Recuperar Datos de la API de Spotify ---\n",
                "# Ejemplo: Buscar canciones de un artista específico\n",
                "artist_name = \"Queen\"\n",
                "print(f\"Buscando canciones de {artist_name}...\")\n",
                "\n",
                "# Buscar el artista para obtener su ID\n",
                "results = sp.search(q=f'artist:{artist_name}', type='artist', limit=1)\n",
                "artist_id = None\n",
                "if results['artists']['items']:\n",
                "    artist_id = results['artists']['items'][0]['id']\n",
                "    print(f\"ID de {artist_name}: {artist_id}\")\n",
                "else:\n",
                "    print(f\"Artista '{artist_name}' no encontrado.\")\n",
                "    exit()\n",
                "\n",
                "# Obtener las 10 canciones más populares del artista\n",
                "top_tracks_data = []\n",
                "if artist_id:\n",
                "    top_tracks = sp.artist_top_tracks(artist_id)\n",
                "    for track in top_tracks['tracks']:\n",
                "        top_tracks_data.append({\n",
                "            'track_id': track['id'],\n",
                "            'track_name': track['name'],\n",
                "            'artist_name': artist_name,\n",
                "            'album_name': track['album']['name'],\n",
                "            'release_date': track['album']['release_date'],\n",
                "            'popularity': track['popularity'],\n",
                "            'duration_ms': track['duration_ms'],\n",
                "            'explicit': track['explicit'],\n",
                "            'preview_url': track['preview_url']\n",
                "        })\n",
                "        #track_ids.append(track['id']) # Guardar el ID de la canción\n",
                "    print(f\"Se recuperaron {len(top_tracks_data)} canciones principales de {artist_name}.\")"
            ]
        },
        {
            "cell_type": "code",
            "execution_count": 13,
            "metadata": {},
            "outputs": [
                {
                    "name": "stdout",
                    "output_type": "stream",
                    "text": [
                        "Se recuperaron 10 canciones principales de Queen.\n"
                    ]
                }
            ],
            "source": [
                "# Obtener las 10 canciones más populares del artista\n",
                "top_tracks_data = []\n",
                "track_ids = [] # Para almacenar los IDs de las canciones para audio_features\n",
                "if artist_id:\n",
                "    top_tracks = sp.artist_top_tracks(artist_id)\n",
                "    for track in top_tracks['tracks']:\n",
                "        top_tracks_data.append({\n",
                "            'track_id': track['id'],\n",
                "            'track_name': track['name'],\n",
                "            'artist_name': artist_name,\n",
                "            'album_name': track['album']['name'],\n",
                "            'release_date': track['album']['release_date'],\n",
                "            'popularity': track['popularity'],\n",
                "            'duration_ms': track['duration_ms'],\n",
                "            'explicit': track['explicit'],\n",
                "            'preview_url': track['preview_url']\n",
                "        })\n",
                "        track_ids.append(track['id']) # Guardar el ID de la canción\n",
                "    print(f\"Se recuperaron {len(top_tracks_data)} canciones principales de {artist_name}.\")\n"
            ]
        },
        {
            "cell_type": "code",
            "execution_count": null,
            "metadata": {},
            "outputs": [
                {
                    "name": "stdout",
                    "output_type": "stream",
                    "text": [
                        "\n",
                        "DataFrame de Pandas creado:\n",
                        "                 track_id                                    track_name  \\\n",
                        "0  7tFiyTwD0nx5a1eklYtX2J           Bohemian Rhapsody - Remastered 2011   \n",
                        "1  7hQJA50XrCWABAu5v6QZ4i           Don't Stop Me Now - Remastered 2011   \n",
                        "2  11IzgLRXV7Cgek3tEgGgjw              Under Pressure - Remastered 2011   \n",
                        "3  57JVGBtBLCfHw2muk5416J  Another One Bites The Dust - Remastered 2011   \n",
                        "4  54flyrjcdnQdco7300avMJ            We Will Rock You - Remastered 2011   \n",
                        "\n",
                        "  artist_name                                        album_name release_date  \\\n",
                        "0       Queen  A Night At The Opera (Deluxe Remastered Version)   1975-11-21   \n",
                        "1       Queen                  Jazz (Deluxe Remastered Version)   1978-11-10   \n",
                        "2       Queen             Hot Space (Deluxe Remastered Version)   1982-05-03   \n",
                        "3       Queen              The Game (Deluxe Remastered Version)   1980-06-27   \n",
                        "4       Queen     News Of The World (Deluxe Remastered Version)   1977-10-28   \n",
                        "\n",
                        "   popularity  duration_ms  explicit preview_url  \n",
                        "0          75       354320     False        None  \n",
                        "1          77       209413     False        None  \n",
                        "2          76       248440     False        None  \n",
                        "3          76       214653     False        None  \n",
                        "4          71       122066     False        None  \n",
                        "\n",
                        "Dimensiones del DataFrame: (10, 9)\n"
                    ]
                }
            ],
            "source": [
                "# --- Crear un DataFrame de Pandas ---\n",
                "if top_tracks_data:\n",
                "    df = pd.DataFrame(top_tracks_data)\n",
                "    print(\"\\nDataFrame de Pandas creado:\")\n",
                "    print(df.head())\n",
                "    print(f\"\\nDimensiones del DataFrame: {df.shape}\")\n",
                "else:\n",
                "    print(\"No se recuperaron datos para crear el DataFrame.\")\n",
                "    exit()\n",
                "\n"
            ]
        },
        {
            "cell_type": "code",
            "execution_count": 5,
            "metadata": {},
            "outputs": [
                {
                    "name": "stdout",
                    "output_type": "stream",
                    "text": [
                        "  Queen I (Collector's Edition) (2024-10-25)\n",
                        "  Queen I (2024 Mix) (2024-10-25)\n",
                        "  The Miracle (Collector's Edition) (2022-11-18)\n",
                        "  Live Around the World (Deluxe) (2020-10-02)\n",
                        "  Bohemian Rhapsody (The Original Soundtrack) (2018-10-19)\n",
                        "  Queen On Air (2016-10-21)\n",
                        "  A Night at the Odeon (2015-01-01)\n",
                        "  Hungarian Rhapsody (Live In Budapest 1986) (2014-11-14)\n",
                        "  Live at the Rainbow ‘74 (2014-01-01)\n",
                        "  Deep Cuts 3 [(1984-1995) 2011 Remaster] (2011-09-05)\n",
                        "  Deep Cuts 2 [(1977-1982) 2011 Remaster] (2011-06-27)\n",
                        "  Deep Cuts [(1973-1976) 2011 Remaster] (2011-03-14)\n",
                        "  Queen Rock Montreal (2007-10-29)\n",
                        "  On Fire: Live At The Bowl (2004-11-04)\n",
                        "  Made in Heaven (Deluxe Remastered Version) (1995-11-06)\n",
                        "  Made in Heaven (1995-11-06)\n",
                        "  Live At Wembley Stadium (1992-05-26)\n",
                        "  Innuendo (Deluxe Remastered Version) (1991-02-05)\n",
                        "  Innuendo (1991-02-04)\n",
                        "  The Miracle (Deluxe Remastered Version) (1989-05-22)\n"
                    ]
                }
            ],
            "source": [
                "# Explorar otros endpoints de la API de Spotify\n",
                "# Obtener álbumes de un artista:\n",
                "albums = sp.artist_albums(artist_id, album_type='album')\n",
                "for album in albums['items']:\n",
                "    print(f\"  {album['name']} ({album['release_date']})\")"
            ]
        },
        {
            "cell_type": "code",
            "execution_count": 8,
            "metadata": {},
            "outputs": [
                {
                    "name": "stdout",
                    "output_type": "stream",
                    "text": [
                        "\n",
                        "--- Análisis de Duración vs Popularidad ---\n"
                    ]
                },
                {
                    "data": {
                        "image/png": "[encoded data removed]",
                        "text/plain": [
                            "<Figure size 1000x600 with 1 Axes>"
                        ]
                    },
                    "metadata": {},
                    "output_type": "display_data"
                }
            ],
            "source": [
                "import matplotlib.pyplot as plt\n",
                "import seaborn as sns\n",
                "\n",
                "\n",
                "# --- Paso 7: Analizar relación estadística (Duración vs Popularidad) ---\n",
                "print(\"\\n--- Análisis de Duración vs Popularidad ---\")\n",
                "\n",
                "# Convertir duración de milisegundos a minutos para mejor legibilidad\n",
                "df['duration_min'] = df['duration_ms'] / 60000\n",
                "\n",
                "# Graficar un scatter plot\n",
                "plt.figure(figsize=(10, 6))\n",
                "sns.scatterplot(x='duration_min', y='popularity', data=df)\n",
                "plt.title(f'Popularidad vs Duración de Canciones de {artist_name}')\n",
                "plt.xlabel('Duración (minutos)')\n",
                "plt.ylabel('Popularidad (0-100)')\n",
                "plt.grid(True)\n",
                "plt.show()\n"
            ]
        },
        {
            "cell_type": "markdown",
            "metadata": {},
            "source": [
                "## **Análisis de la relación duración-popularidad:**\n",
                "- Observando el gráfico de dispersión, podemos ver la distribución de las canciones en función de su duración y popularidad.\n",
                "- Una relación clara (positiva o negativa) entre duración y popularidad no es siempre evidente solo con un scatter plot de pocas canciones.\n",
                "- A menudo, la popularidad de una canción es multifactorial y no solo depende de su duración.\n",
                "- Por ejemplo, canciones muy cortas o muy largas podrían tener popularidades variadas. Las canciones de duración 'estándar' (ej. 3-4 minutos) suelen ser las más comunes en las listas de popularidad, pero esto no implica una causalidad directa, sino una tendencia de la industria musical\n",
                "- Para una conclusión más robusta, se necesitaría un dataset más grande y un análisis de correlación estadística más profundo.\n",
                "- Pero como se puede apreciar, puede inferirse que no existe relación directa entre la duración de una canción con su popularidad, obervamos canciones en el rango medio de duración con popularidad por encima del 70% e igualmente se observa una canción con una duración cercana a los 6 minutos con un popularidad superior al 70%.\n",
                "- Lo que sí podemos decir es que la agrupación \"Queen\" es muy popular.\n"
            ]
        }
    ],
    "metadata": {
        "kernelspec": {
            "display_name": ".venv",
            "language": "python",
            "name": "python3"
        },
        "language_info": {
            "codemirror_mode": {
                "name": "ipython",
                "version": 3
            },
            "file_extension": ".py",
            "mimetype": "text/x-python",
            "name": "python",
            "nbconvert_exporter": "python",
            "pygments_lexer": "ipython3",
            "version": "3.11.4"
        },
        "orig_nbformat": 4
    },
    "nbformat": 4,
    "nbformat_minor": 2
}
